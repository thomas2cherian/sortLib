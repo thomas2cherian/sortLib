{
 "cells": [
  {
   "cell_type": "code",
   "execution_count": null,
   "id": "5b329243-11da-44ab-99b7-4e57c721209a",
   "metadata": {
    "tags": []
   },
   "outputs": [],
   "source": [
    "# IMPORT spikeinterface and probeinterface\n",
    "import spikeinterface.full as si\n",
    "import probeinterface as pi\n",
    "\n",
    "# IMPORT other libraries\n",
    "import numpy as np\n",
    "import pandas as pd\n",
    "import matplotlib.pyplot as plt\n",
    "import time\n",
    "from pathlib import Path"
   ]
  },
  {
   "cell_type": "code",
   "execution_count": null,
   "id": "ccec806a-874f-44aa-8287-9b69a72b3228",
   "metadata": {
    "tags": []
   },
   "outputs": [],
   "source": [
    "# SET the file paths\n",
    "baseFolder         = Path('.')\n",
    "recordingFile      = baseFolder / 'HSW_2023_06_22__09_17_51__05min_43sec__hsamp_256ch_25000sps.bin'\n",
    "\n",
    "# SET job params for parallel processing steps (n_jobs = nCores-1)\n",
    "jobKwArgs          = dict(n_jobs         = 5,                          \n",
    "                          chunk_duration = \"1s\",\n",
    "                          progress_bar   = True,\n",
    "                          mp_context     = \"spawn\")"
   ]
  },
  {
   "cell_type": "code",
   "execution_count": null,
   "id": "53b9f7c9-e8fb-438b-b82a-20eaf8df1065",
   "metadata": {
    "tags": []
   },
   "outputs": [],
   "source": [
    "# BIN file parameeters\n",
    "numChannels        = 256\n",
    "samplingFrequency  = 25000\n",
    "gainToMicroVolts   = 6.25e3/32768\n",
    "offsetToMicroVolts = 0\n",
    "dataType           = 'int16'\n",
    "timeAxis           = 0\n",
    "fileOffset         = 8\n",
    "\n",
    "# LOAD BIN file in 'lazy' manner - access as required\n",
    "data               = si.read_binary(recordingFile,\n",
    "                                    num_chan           = numChannels,\n",
    "                                    sampling_frequency = samplingFrequency,\n",
    "                                    dtype              = dataType,\n",
    "                                    gain_to_uV         = gainToMicroVolts,\n",
    "                                    offset_to_uV       = offsetToMicroVolts, \n",
    "                                    time_axis          = timeAxis,\n",
    "                                    file_offset        = fileOffset,\n",
    "                                    is_filtered        = False)"
   ]
  },
  {
   "cell_type": "code",
   "execution_count": null,
   "id": "9681978f-ff3a-40ea-8c47-0fbf35a523b8",
   "metadata": {
    "tags": []
   },
   "outputs": [],
   "source": [
    "# LOAD fma32 probe\n",
    "probe         = pi.io.read_probeinterface('cocoFma256.json')\n",
    "\n",
    "# SET probe into recording -  this will reorder the probe contact_ids based on device_channel_ids\n",
    "# SEE answer to query - https://github.com/SpikeInterface/spikeinterface/issues/246\n",
    "dataWithProbe = data.set_probegroup(probe, group_mode = \"by_shank\")\n",
    "\n",
    "# LOAD fma256SpecsFlat - ordered by ascending fma number (0:255, sets of 32)\n",
    "fma256Specs   = pd.read_csv('cocoFma256.csv')\n",
    "\n",
    "# REORDER fma256Specs by ascending hsw number\n",
    "fma256Specs   = fma256Specs.sort_values(by=['hsw'])\n",
    "\n",
    "# ADD fmaID to properties \n",
    "dataWithProbe.set_property(key = 'fmaID', values = fma256Specs['fmaID'].values)"
   ]
  },
  {
   "cell_type": "code",
   "execution_count": null,
   "id": "c7780669-1630-4ebd-85a3-9b150889cba6",
   "metadata": {
    "tags": []
   },
   "outputs": [],
   "source": [
    "# HIGHPASS filter the data\n",
    "dataWithProbeFiltered       = si.filter(dataWithProbe,\n",
    "                                        band         = 250,\n",
    "                                        btype        = 'highpass',\n",
    "                                        ftype        = 'butter',\n",
    "                                        filter_order = 4)"
   ]
  },
  {
   "cell_type": "code",
   "execution_count": null,
   "id": "c1d11a65-fa6b-4a8c-808d-313611f72e65",
   "metadata": {
    "tags": []
   },
   "outputs": [],
   "source": [
    "# Start timer\n",
    "startTime = time.time()\n",
    "\n",
    "# SAVE highpass data into folder\n",
    "if (baseFolder / \"preprocessed\").is_dir():\n",
    "    preprocessedData = si.load_extractor(baseFolder / \"preprocessed\")\n",
    "else:\n",
    "    preprocessedData = dataWithProbeFiltered.save(folder = baseFolder / \"preprocessed\",\n",
    "                                                  **jobKwArgs)\n",
    "    \n",
    "# End timer\n",
    "endTime = time.time()\n",
    "\n",
    "# Calculate elapsed time\n",
    "elapsedTime = endTime - startTime\n",
    "print(\"Elapsed time: \", elapsedTime)     "
   ]
  },
  {
   "cell_type": "code",
   "execution_count": null,
   "id": "f4155ad6-40b7-438e-84d2-c773b81a0f68",
   "metadata": {
    "tags": []
   },
   "outputs": [],
   "source": [
    "# Start timer\n",
    "startTime = time.time()\n",
    "\n",
    "# SORT the preprocessed data using spykingcircus called through docker image\n",
    "sortedData = si.run_sorter(\"mountainsort4\", preprocessedData, \n",
    "                           output_folder     = baseFolder / \"sorted\",                        \n",
    "                           docker_image      = True, \n",
    "                           verbose           = True,\n",
    "                           detect_sign       = -1,\n",
    "                           detect_threshold  = 3,\n",
    "                           detect_interval   = 30,\n",
    "                           filter            = False,\n",
    "                           whiten            = True,\n",
    "                           num_workers       = 6,\n",
    "                           adjacency_radius  = 50,\n",
    "                           clip_size         = 40)\n",
    "\n",
    "# End timer\n",
    "endTime = time.time()\n",
    "\n",
    "# Calculate elapsed time\n",
    "elapsedTime = endTime - startTime\n",
    "print(\"Elapsed time: \", elapsedTime) "
   ]
  },
  {
   "cell_type": "code",
   "execution_count": null,
   "id": "77aa592b-235b-410c-8566-961864f4c762",
   "metadata": {
    "tags": []
   },
   "outputs": [],
   "source": [
    "# LOAD the preprocessed and sorted data separately\n",
    "recording = si.load_extractor(baseFolder / \"preprocessed\")\n",
    "sorting   = sortedData\n",
    "sorting"
   ]
  },
  {
   "cell_type": "code",
   "execution_count": null,
   "id": "3c3cfe4a-39b1-4b07-a6b0-d68b987a9dbd",
   "metadata": {
    "tags": []
   },
   "outputs": [],
   "source": [
    "waveforms = si.extract_waveforms(recording, sorting,\n",
    "                                 folder                  = baseFolder / \"waveformAll\", \n",
    "                                 max_spikes_per_unit     = None,\n",
    "                                 ms_before               = 0.4,\n",
    "                                 ms_after                = 1.6,\n",
    "                                 sparse                  = True,\n",
    "                                 num_spikes_for_sparsity = 100,\n",
    "                                 method                  = \"radius\",\n",
    "                                 radius_um               = 50,\n",
    "                                 **jobKwArgs)"
   ]
  },
  {
   "cell_type": "code",
   "execution_count": null,
   "id": "2a9a9de6-0946-44f5-a5f6-0d7c3db0b1ae",
   "metadata": {
    "tags": []
   },
   "outputs": [],
   "source": [
    "si.export_to_phy(waveforms,\n",
    "                 output_folder = baseFolder / 'curation', \n",
    "                 **jobKwArgs)"
   ]
  }
 ],
 "metadata": {
  "kernelspec": {
   "display_name": "Python 3 (ipykernel)",
   "language": "python",
   "name": "python3"
  },
  "language_info": {
   "codemirror_mode": {
    "name": "ipython",
    "version": 3
   },
   "file_extension": ".py",
   "mimetype": "text/x-python",
   "name": "python",
   "nbconvert_exporter": "python",
   "pygments_lexer": "ipython3",
   "version": "3.11.3"
  }
 },
 "nbformat": 4,
 "nbformat_minor": 5
}
